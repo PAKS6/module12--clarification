{
 "cells": [
  {
   "cell_type": "markdown",
   "id": "fe9ec9b6",
   "metadata": {},
   "source": [
    "Exercise 6.\n",
    "Create a Test Scores program that gets the name of students and test score from a user. Then, generate a list of students who passed and a list of students who failed where passing test score is 60 or above."
   ]
  },
  {
   "cell_type": "code",
   "execution_count": 2,
   "id": "441a7508",
   "metadata": {},
   "outputs": [
    {
     "name": "stdout",
     "output_type": "stream",
     "text": [
      "please enter your name:  tim\n",
      "plesae enter your test score:  92\n",
      "do you want to continue? (y/n)y\n",
      "please enter your name:  tom\n",
      "plesae enter your test score:  93\n",
      "do you want to continue? (y/n)y\n",
      "please enter your name:  rik\n",
      "plesae enter your test score:  93\n",
      "do you want to continue? (y/n)y\n",
      "please enter your name:  tip\n",
      "plesae enter your test score:  95\n",
      "do you want to continue? (y/n)n\n"
     ]
    },
    {
     "ename": "ValueError",
     "evalue": "too many values to unpack (expected 2)",
     "output_type": "error",
     "traceback": [
      "\u001b[1;31m---------------------------------------------------------------------------\u001b[0m",
      "\u001b[1;31mValueError\u001b[0m                                Traceback (most recent call last)",
      "\u001b[1;32m~\\AppData\\Local\\Temp/ipykernel_18340/16931189.py\u001b[0m in \u001b[0;36m<module>\u001b[1;34m\u001b[0m\n\u001b[0;32m     11\u001b[0m \u001b[1;33m\u001b[0m\u001b[0m\n\u001b[0;32m     12\u001b[0m \u001b[1;33m\u001b[0m\u001b[0m\n\u001b[1;32m---> 13\u001b[1;33m \u001b[1;32mfor\u001b[0m \u001b[0mkey\u001b[0m\u001b[1;33m,\u001b[0m \u001b[0mvalues\u001b[0m \u001b[1;32min\u001b[0m \u001b[0mdict1\u001b[0m\u001b[1;33m:\u001b[0m\u001b[1;33m\u001b[0m\u001b[1;33m\u001b[0m\u001b[0m\n\u001b[0m\u001b[0;32m     14\u001b[0m     \u001b[1;32mif\u001b[0m \u001b[0mscore\u001b[0m \u001b[1;33m>=\u001b[0m \u001b[1;36m60\u001b[0m\u001b[1;33m:\u001b[0m\u001b[1;33m\u001b[0m\u001b[1;33m\u001b[0m\u001b[0m\n\u001b[0;32m     15\u001b[0m         \u001b[0mpassStudents\u001b[0m\u001b[1;33m.\u001b[0m\u001b[0mappend\u001b[0m\u001b[1;33m(\u001b[0m\u001b[0mkey\u001b[0m\u001b[1;33m)\u001b[0m\u001b[1;33m\u001b[0m\u001b[1;33m\u001b[0m\u001b[0m\n",
      "\u001b[1;31mValueError\u001b[0m: too many values to unpack (expected 2)"
     ]
    }
   ],
   "source": [
    "dict1 = { }\n",
    "passStudents = [ ]\n",
    "failStudents= [ ]\n",
    "\n",
    "\n",
    "add=True\n",
    "while add is True:\n",
    "    dict1[\"name\"] = input(\"please enter your name:  \")\n",
    "    dict1[\"score\"] = float(input(\"plesae enter your test score:  \"))\n",
    "    add=input('do you want to continue? (y/n)')== \"y\"\n",
    "\n",
    "\n",
    "for key, values in dict1:\n",
    "    if score >= 60:\n",
    "        passStudents.append(key)\n",
    "    else:\n",
    "        failStudents.append(key)\n",
    " \n",
    "\n",
    "    print(dict1)\n",
    "print(passStudents)\n",
    "print(failStudents)"
   ]
  },
  {
   "cell_type": "markdown",
   "id": "c5e6e85c",
   "metadata": {},
   "source": [
    "module13 \n",
    "Exercise 5\n",
    "Write a program that asks the user for a number and a file name, then prints out the number from 1 to that number, one one each line to a file named using user's input. Then, read that file and print out its content."
   ]
  },
  {
   "cell_type": "code",
   "execution_count": null,
   "id": "f9297191",
   "metadata": {},
   "outputs": [],
   "source": [
    "numb1=int(input(\"Enter a number:  \"))\n",
    "numb=numb1+1\n",
    "file_name=input(\"Enter filename with extension:  \")\n",
    "file = open ({file_name}.txt, \"r\")\n",
    "file.write(0,numb)"
   ]
  },
  {
   "cell_type": "markdown",
   "id": "9916b713",
   "metadata": {},
   "source": []
  }
 ],
 "metadata": {
  "kernelspec": {
   "display_name": "Python 3 (ipykernel)",
   "language": "python",
   "name": "python3"
  },
  "language_info": {
   "codemirror_mode": {
    "name": "ipython",
    "version": 3
   },
   "file_extension": ".py",
   "mimetype": "text/x-python",
   "name": "python",
   "nbconvert_exporter": "python",
   "pygments_lexer": "ipython3",
   "version": "3.9.7"
  }
 },
 "nbformat": 4,
 "nbformat_minor": 5
}
